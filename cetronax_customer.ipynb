{
 "cells": [
  {
   "cell_type": "code",
   "execution_count": 24,
   "id": "447715b6",
   "metadata": {},
   "outputs": [],
   "source": [
    "import pandas as pd\n",
    "import numpy as np\n",
    "import os\n",
    "\n",
    "cetronax_customer = pd.read_excel('results.xlsx')"
   ]
  },
  {
   "cell_type": "code",
   "execution_count": 25,
   "id": "ed78f2b1",
   "metadata": {},
   "outputs": [
    {
     "data": {
      "text/plain": [
       "3052"
      ]
     },
     "execution_count": 25,
     "metadata": {},
     "output_type": "execute_result"
    }
   ],
   "source": [
    "len(cetronax_customer)"
   ]
  },
  {
   "cell_type": "code",
   "execution_count": 26,
   "id": "d01a0581",
   "metadata": {},
   "outputs": [
    {
     "data": {
      "text/plain": [
       "289"
      ]
     },
     "execution_count": 26,
     "metadata": {},
     "output_type": "execute_result"
    }
   ],
   "source": [
    "len(cetronax_customer[(cetronax_customer['Days from Last Sale']<=60) & (cetronax_customer['Days from Last Sale']>30) ])"
   ]
  },
  {
   "cell_type": "code",
   "execution_count": 27,
   "id": "3c452a01",
   "metadata": {},
   "outputs": [
    {
     "data": {
      "text/plain": [
       "225"
      ]
     },
     "execution_count": 27,
     "metadata": {},
     "output_type": "execute_result"
    }
   ],
   "source": [
    "len(cetronax_customer[(cetronax_customer['Days from Last Sale']<=90) & (cetronax_customer['Days from Last Sale']>60) ])"
   ]
  },
  {
   "cell_type": "code",
   "execution_count": 28,
   "id": "5ffb4399",
   "metadata": {},
   "outputs": [
    {
     "data": {
      "text/plain": [
       "330"
      ]
     },
     "execution_count": 28,
     "metadata": {},
     "output_type": "execute_result"
    }
   ],
   "source": [
    "len(cetronax_customer[(cetronax_customer['Days from Last Sale']<=120) & (cetronax_customer['Days from Last Sale']>90) ])"
   ]
  },
  {
   "cell_type": "code",
   "execution_count": 29,
   "id": "d1a90313",
   "metadata": {},
   "outputs": [
    {
     "data": {
      "text/plain": [
       "158"
      ]
     },
     "execution_count": 29,
     "metadata": {},
     "output_type": "execute_result"
    }
   ],
   "source": [
    "len(cetronax_customer[(cetronax_customer['Days from Last Sale']<=150) & (cetronax_customer['Days from Last Sale']>120) ])"
   ]
  },
  {
   "cell_type": "code",
   "execution_count": 30,
   "id": "b4604c2b",
   "metadata": {},
   "outputs": [
    {
     "data": {
      "text/plain": [
       "177"
      ]
     },
     "execution_count": 30,
     "metadata": {},
     "output_type": "execute_result"
    }
   ],
   "source": [
    "len(cetronax_customer[(cetronax_customer['Days from Last Sale']<=180) & (cetronax_customer['Days from Last Sale']>150) ])"
   ]
  },
  {
   "cell_type": "code",
   "execution_count": 31,
   "id": "ba9153fd",
   "metadata": {},
   "outputs": [
    {
     "data": {
      "text/plain": [
       "99"
      ]
     },
     "execution_count": 31,
     "metadata": {},
     "output_type": "execute_result"
    }
   ],
   "source": [
    "len(cetronax_customer[(cetronax_customer['Days from Last Sale']<=210) & (cetronax_customer['Days from Last Sale']>180) ])"
   ]
  },
  {
   "cell_type": "code",
   "execution_count": 32,
   "id": "f61f3e17",
   "metadata": {},
   "outputs": [
    {
     "data": {
      "text/plain": [
       "145"
      ]
     },
     "execution_count": 32,
     "metadata": {},
     "output_type": "execute_result"
    }
   ],
   "source": [
    "len(cetronax_customer[(cetronax_customer['Days from Last Sale']<=240) & (cetronax_customer['Days from Last Sale']>210) ])"
   ]
  },
  {
   "cell_type": "code",
   "execution_count": 33,
   "id": "6082e094",
   "metadata": {},
   "outputs": [
    {
     "data": {
      "text/plain": [
       "115"
      ]
     },
     "execution_count": 33,
     "metadata": {},
     "output_type": "execute_result"
    }
   ],
   "source": [
    "len(cetronax_customer[(cetronax_customer['Days from Last Sale']<=270) & (cetronax_customer['Days from Last Sale']>240) ])"
   ]
  },
  {
   "cell_type": "code",
   "execution_count": null,
   "id": "fbde2195",
   "metadata": {},
   "outputs": [],
   "source": []
  }
 ],
 "metadata": {
  "kernelspec": {
   "display_name": "Python 3 (ipykernel)",
   "language": "python",
   "name": "python3"
  },
  "language_info": {
   "codemirror_mode": {
    "name": "ipython",
    "version": 3
   },
   "file_extension": ".py",
   "mimetype": "text/x-python",
   "name": "python",
   "nbconvert_exporter": "python",
   "pygments_lexer": "ipython3",
   "version": "3.10.9"
  }
 },
 "nbformat": 4,
 "nbformat_minor": 5
}

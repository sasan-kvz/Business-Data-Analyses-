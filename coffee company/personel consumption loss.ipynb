{
 "cells": [
  {
   "cell_type": "code",
   "execution_count": 1,
   "id": "b54755ed-6078-4606-bda9-0d318f74e48d",
   "metadata": {},
   "outputs": [],
   "source": [
    "import pandas as pd\n",
    "import numpy as np\n",
    "import os\n",
    "from datetime import datetime\n"
   ]
  },
  {
   "cell_type": "code",
   "execution_count": 2,
   "id": "48da9ced-f70c-49c6-b1f1-34cd68c32852",
   "metadata": {},
   "outputs": [],
   "source": [
    "df = pd.read_excel(r'C:\\Users\\Lenovo\\Desktop\\modaam\\tasks\\personel consumption/personel_orders_forcostloss.xlsx')\n",
    "item_price =  pd.read_excel(r'C:\\Users\\Lenovo\\Desktop\\modaam\\tasks\\personel consumption/item_prices.xlsx')"
   ]
  },
  {
   "cell_type": "code",
   "execution_count": 3,
   "id": "495b8cbf-0542-4498-83ee-21dc83c5dc52",
   "metadata": {},
   "outputs": [],
   "source": [
    "# Convert 'pay_at' to datetime if it's not already in datetime format\n",
    "df['created_at'] = pd.to_datetime(df['created_at'])\n",
    "\n",
    "# Extract month and year for grouping\n",
    "df['year_month'] = df['created_at'].dt.to_period('M')\n"
   ]
  },
  {
   "cell_type": "code",
   "execution_count": 4,
   "id": "40386cb0-5ce8-4380-b406-faa6e551c18f",
   "metadata": {},
   "outputs": [],
   "source": [
    "# Ensure columns are of the same data type (e.g., integers)\n",
    "df['item_name'] = df['item_name'].astype(str, errors='ignore')\n",
    "item_price['item_name'] = item_price['item_name'].astype(str, errors='ignore')\n",
    "\n",
    "df['year_month'] = df['year_month'].astype(str, errors='ignore')\n",
    "item_price['year_month'] = item_price['year_month'].astype(str, errors='ignore')\n",
    "\n",
    "# Columns to join on\n",
    "columns_to_join_on = ['year_month', 'item_name']\n",
    "\n",
    "# Perform an outer join using merge\n",
    "df_personel = pd.merge(df, item_price, on=columns_to_join_on, how='outer')\n",
    "\n",
    "df_personel.to_excel('personel_orders_adjusted_costloss.xlsx')"
   ]
  },
  {
   "cell_type": "code",
   "execution_count": null,
   "id": "f2f0079a-2cad-41be-abc7-bfdcd81b5369",
   "metadata": {},
   "outputs": [],
   "source": []
  }
 ],
 "metadata": {
  "kernelspec": {
   "display_name": "Python 3 (ipykernel)",
   "language": "python",
   "name": "python3"
  },
  "language_info": {
   "codemirror_mode": {
    "name": "ipython",
    "version": 3
   },
   "file_extension": ".py",
   "mimetype": "text/x-python",
   "name": "python",
   "nbconvert_exporter": "python",
   "pygments_lexer": "ipython3",
   "version": "3.11.7"
  }
 },
 "nbformat": 4,
 "nbformat_minor": 5
}

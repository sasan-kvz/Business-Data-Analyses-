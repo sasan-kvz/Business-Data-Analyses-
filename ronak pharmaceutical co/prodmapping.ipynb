{
 "cells": [
  {
   "cell_type": "code",
   "execution_count": 1,
   "id": "263fd792",
   "metadata": {},
   "outputs": [],
   "source": [
    "import pandas as pd\n",
    "import numpy as np\n",
    "import os\n",
    "\n",
    "Generic = pd.read_csv('Generic.csv')\n",
    "DimProducts = pd.read_excel('DimProducts.xlsx')\n"
   ]
  },
  {
   "cell_type": "code",
   "execution_count": 6,
   "id": "e1b9986f",
   "metadata": {},
   "outputs": [],
   "source": [
    "# Columns to join on\n",
    "columns_to_join_on = ['ProductCode']\n",
    "\n",
    "# Perform an outer join using merge\n",
    "prodmapping = pd.merge(DimProducts, Generic, on=columns_to_join_on, how='outer')\n",
    "\n",
    "\n",
    "# Save the merged DataFrame to an Excel file\n",
    "prodmapping.to_excel('prodmapping.xlsx', index=False)\n"
   ]
  }
 ],
 "metadata": {
  "kernelspec": {
   "display_name": "Python 3 (ipykernel)",
   "language": "python",
   "name": "python3"
  },
  "language_info": {
   "codemirror_mode": {
    "name": "ipython",
    "version": 3
   },
   "file_extension": ".py",
   "mimetype": "text/x-python",
   "name": "python",
   "nbconvert_exporter": "python",
   "pygments_lexer": "ipython3",
   "version": "3.10.9"
  }
 },
 "nbformat": 4,
 "nbformat_minor": 5
}

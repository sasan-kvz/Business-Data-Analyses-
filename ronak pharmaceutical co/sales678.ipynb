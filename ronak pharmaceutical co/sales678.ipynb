{
 "cells": [
  {
   "cell_type": "code",
   "execution_count": 4,
   "id": "7c4fd032",
   "metadata": {},
   "outputs": [],
   "source": [
    "import pandas as pd\n",
    "import numpy as np\n",
    "import os\n",
    "\n",
    "pt_sale = pd.read_excel('sales678.xlsx')\n",
    "pt_riali = pd.read_excel('riali678.xlsx')\n",
    "mapping=pd.read_excel('azar SalePMtoDist.xlsx')"
   ]
  },
  {
   "cell_type": "code",
   "execution_count": 5,
   "id": "f6266d24",
   "metadata": {},
   "outputs": [],
   "source": [
    "pt_sale['ProductNameFA']=pt_sale.ProductName\n",
    "replace_dict = dict(zip(mapping['DistProductName'],mapping['ProductNameFA']))\n",
    "pt_sale['ProductNameFA'].replace(replace_dict,inplace=True)\n",
    "pt_sale['ProductNameEng']=pt_sale.ProductNameFA\n",
    "replace_dict = dict(zip(mapping['ProductNameFA'],mapping['ProductNameEN']))\n",
    "pt_sale['ProductNameEng'].replace(replace_dict,inplace=True)"
   ]
  },
  {
   "cell_type": "code",
   "execution_count": 6,
   "id": "360f852a",
   "metadata": {},
   "outputs": [
    {
     "data": {
      "text/plain": [
       "array(['Robeta 2.5', 'Gonarex', 'Rometalock', 'Eprona 25', 'Rofolin 100',\n",
       "       'Bethanechol 25', 'Zeclast', 'Wellatrix 500', 'Lazaro 50',\n",
       "       'Pepticare 40', 'Escitalopram 10', 'Rofend 200', 'Zolena',\n",
       "       'Lamixon 100', 'Lamixon 25', 'Lamixon 50', 'Kolimer', 'Cetronax',\n",
       "       'Eprona 50', 'Rofolin 15', 'Escitalopram 20', 'Robeta 5',\n",
       "       'Rofolin 200 (Powder)', 'Ompicare 20', 'Pepticare 20',\n",
       "       'Ropakin Chrono 500', 'Menotron', 'Toshan', 'Ciprox 500',\n",
       "       'Remdesivir', 'Levekin 500', 'Roniscan', 'Rofend',\n",
       "       'Bethanechol 10', 'Rolexan 4000', 'Roviro 250',\n",
       "       'Decarelin 0.1 Vial_x000D_\\n', 'Sodium Chloride 500',\n",
       "       'Colisma 4.5', 'Pepticare', 'Ciprox', 'Prelex 5/80', 'Colisma 1',\n",
       "       'Desfonak', 'Rolexan 6000', 'Medrolin', 'Ronophage 500 (100)',\n",
       "       'Phenazix', 'Rofolin 200', 'Talajade 360', 'Ropakin 400', 'Agrina',\n",
       "       'Ronophage 500', 'Levekin 250', 'Milocor', 'Ronopar 100/25',\n",
       "       'Texanik', 'Protamine', 'Ronopar 200/50',\n",
       "       'Dextrose/Sodium Chloride 500', 'Prelex 5/160', 'Lazaro 25'],\n",
       "      dtype=object)"
      ]
     },
     "execution_count": 6,
     "metadata": {},
     "output_type": "execute_result"
    }
   ],
   "source": [
    "pt_sale.to_excel('sales_mapped.xlsx')\n",
    "pt_sale.ProductNameEng.unique()"
   ]
  },
  {
   "cell_type": "code",
   "execution_count": 7,
   "id": "197424a1",
   "metadata": {},
   "outputs": [
    {
     "data": {
      "text/plain": [
       "array([], dtype=object)"
      ]
     },
     "execution_count": 7,
     "metadata": {},
     "output_type": "execute_result"
    }
   ],
   "source": [
    "nan_rows = pt_sale[pt_sale['ProductNameEng'].isnull()]\n",
    "nan_rows.ProductName.unique()"
   ]
  },
  {
   "cell_type": "code",
   "execution_count": 8,
   "id": "f4901768",
   "metadata": {},
   "outputs": [],
   "source": [
    "pt_sale['Year'] = pt_sale['SDate'].apply(lambda t: int(str(t)[:4]))\n",
    "pt_sale['Month'] = pt_sale['SDate'].apply(lambda t: int(str(t)[4:6]))\n",
    "pt_sale['day'] = pt_sale['SDate'].apply(lambda t: int(str(t)[6:8]))\n",
    "\n",
    "pt_sale['DistributionCenter'] = pt_sale['DistributionCenter'].apply(lambda t: str(t).strip())"
   ]
  },
  {
   "cell_type": "code",
   "execution_count": 9,
   "id": "b0022d48",
   "metadata": {},
   "outputs": [],
   "source": [
    "grouped_df = pt_sale.groupby(['ProductNameEng', 'Month'])['NetSalesVolumePack'].sum().reset_index()\n",
    "\n",
    "# Create a pivot table\n",
    "pivot_df = grouped_df.pivot_table(index='ProductNameEng', columns='Month', values='NetSalesVolumePack').reset_index()\n",
    "pivot_df.fillna(0, inplace=True)"
   ]
  },
  {
   "cell_type": "code",
   "execution_count": 10,
   "id": "e9af27ab",
   "metadata": {},
   "outputs": [],
   "source": [
    "pivot_df.to_excel('pivot_df.xlsx')"
   ]
  },
  {
   "cell_type": "code",
   "execution_count": 11,
   "id": "18bd646c",
   "metadata": {},
   "outputs": [],
   "source": [
    "def determine_trend(row):\n",
    "    if row[6] < row[7] < row[8]:\n",
    "        return 'ascending'\n",
    "    elif row[6] > row[7] > row[8]:\n",
    "        return 'descending'\n",
    "    elif row[6] < row[7] > row[8]:\n",
    "        return 'ascend-descend'\n",
    "    elif row[6] > row[7] < row[8]:\n",
    "        return 'descend-ascend'\n",
    "    else:\n",
    "        return 'no_change'\n",
    "\n",
    "# Apply the function to each row to get the trend\n",
    "pivot_df['trend'] = pivot_df.apply(determine_trend, axis=1)\n",
    "\n",
    "# Calculate the differences between months 6 and 7, and 7 and 8\n",
    "pivot_df['first_change'] = pivot_df[7] - pivot_df[6]\n",
    "pivot_df['second_change'] = pivot_df[8] - pivot_df[7]\n"
   ]
  },
  {
   "cell_type": "code",
   "execution_count": 12,
   "id": "5a908053",
   "metadata": {},
   "outputs": [],
   "source": [
    "pivot_df.to_excel('sales_analysis.xlsx')"
   ]
  },
  {
   "cell_type": "code",
   "execution_count": 13,
   "id": "f72b6e48",
   "metadata": {},
   "outputs": [
    {
     "data": {
      "text/plain": [
       "array(['Gonarex', 'Eprona 25', 'Robeta 2.5', 'Rometalock',\n",
       "       'Bethanechol 25', 'Zeclast', 'Rofolin 100', 'Wellatrix 500',\n",
       "       'Lazaro 50', 'Pepticare 40', 'Escitalopram 10', 'Lamixon 25',\n",
       "       'Lamixon 50', 'Lamixon 100', 'Robeta 5', 'Toshan', 'Pepticare 20',\n",
       "       'Ompicare 20', 'Escitalopram 20', 'Rofolin 15',\n",
       "       'Rofolin 200 (Powder)', 'Cetronax', 'Ciprox 500', 'Zolena',\n",
       "       'Roviro 250', 'Ropakin Chrono 500', 'Sodium Chloride 500',\n",
       "       'Menotron', 'Eprona 50', 'Kolimer', 'Levekin 500',\n",
       "       'Decarelin 0.1 Vial_x000D_\\n', 'Ciprox', 'Pepticare',\n",
       "       'Rolexan 4000', 'Rofend 200', 'Prelex 5/80', 'Remdesivir',\n",
       "       'Bethanechol 10', 'Roniscan', 'Rofend', 'Colisma 4.5', 'Colisma 1',\n",
       "       'Desfonak', 'Rolexan 6000', 'Medrolin', 'Ronophage 500 (100)',\n",
       "       'Phenazix', 'Rofolin 200', 'Talajade 360', 'Ropakin 400',\n",
       "       'Ronophage 500', 'Texanik', 'Levekin 250', 'Milocor', 'Agrina',\n",
       "       'Protamine', 'Ronopar 100/25', 'Ronopar 200/50',\n",
       "       'Dextrose/Sodium Chloride 500', 'Prelex 5/160', 'Lazaro 25'],\n",
       "      dtype=object)"
      ]
     },
     "execution_count": 13,
     "metadata": {},
     "output_type": "execute_result"
    }
   ],
   "source": [
    "#riali \n",
    "\n",
    "pt_riali['ProductNameFA']=pt_riali.ProductName\n",
    "replace_dict = dict(zip(mapping['DistProductName'],mapping['ProductNameFA']))\n",
    "pt_riali['ProductNameFA'].replace(replace_dict,inplace=True)\n",
    "pt_riali['ProductNameEng']=pt_riali.ProductNameFA\n",
    "replace_dict = dict(zip(mapping['ProductNameFA'],mapping['ProductNameEN']))\n",
    "pt_riali['ProductNameEng'].replace(replace_dict,inplace=True)\n",
    "pt_riali.ProductNameEng.unique()\n"
   ]
  },
  {
   "cell_type": "code",
   "execution_count": 14,
   "id": "2551a5f1",
   "metadata": {},
   "outputs": [
    {
     "data": {
      "text/plain": [
       "array([], dtype=object)"
      ]
     },
     "execution_count": 14,
     "metadata": {},
     "output_type": "execute_result"
    }
   ],
   "source": [
    "nan_rows = pt_riali[pt_sale['ProductNameEng'].isnull()]\n",
    "nan_rows.ProductName.unique()"
   ]
  },
  {
   "cell_type": "code",
   "execution_count": 15,
   "id": "79dd1a4d",
   "metadata": {},
   "outputs": [],
   "source": [
    "pt_riali['Year'] = pt_riali['SDate'].apply(lambda t: int(str(t)[:4]))\n",
    "pt_riali['Month'] = pt_riali['SDate'].apply(lambda t: int(str(t)[4:6]))\n",
    "pt_riali['day'] = pt_riali['SDate'].apply(lambda t: int(str(t)[6:8]))\n",
    "\n",
    "pt_riali['DistributionCenter'] = pt_riali['DistributionCenter'].apply(lambda t: str(t).strip())"
   ]
  },
  {
   "cell_type": "code",
   "execution_count": 16,
   "id": "3f501403",
   "metadata": {},
   "outputs": [],
   "source": [
    "\n",
    "grouped_riali = pt_riali.groupby(['ProductNameEng', 'Month'])['NetSalesValueRiali(FirstPrice)'].sum().reset_index()\n",
    "\n",
    "# Create a pivot table\n",
    "pivot_riali = grouped_riali.pivot_table(index='ProductNameEng', columns='Month', values='NetSalesValueRiali(FirstPrice)').reset_index()\n",
    "pivot_riali.fillna(0, inplace=True)"
   ]
  },
  {
   "cell_type": "code",
   "execution_count": 17,
   "id": "a7076c63",
   "metadata": {},
   "outputs": [],
   "source": [
    "# Calculate the riali differences between months 6 and 7, and 7 and 8\n",
    "pivot_riali['riali_first_change'] = pivot_df[7] - pivot_df[6]\n",
    "pivot_riali['riali_second_change'] = pivot_df[8] - pivot_df[7]\n"
   ]
  },
  {
   "cell_type": "code",
   "execution_count": 30,
   "id": "126bd31a",
   "metadata": {},
   "outputs": [],
   "source": [
    "\n",
    "pivot_riali = pivot_riali.rename(columns={6: '6riali'})\n",
    "pivot_riali = pivot_riali.rename(columns={7: '7riali'})\n",
    "pivot_riali = pivot_riali.rename(columns={8: '8riali'})\n",
    "\n",
    "# pivot_riali.to_excel('sales_riali_analysis.xlsx')"
   ]
  },
  {
   "cell_type": "code",
   "execution_count": 33,
   "id": "c0e51842",
   "metadata": {},
   "outputs": [],
   "source": [
    "# Columns to join on\n",
    "columns_to_join_on = [ 'ProductNameEng']\n",
    "\n",
    "# Perform an outer join using merge\n",
    "sales = pd.merge(pivot_df, pivot_riali, on=columns_to_join_on, how='outer')\n",
    "\n"
   ]
  },
  {
   "cell_type": "code",
   "execution_count": 50,
   "id": "10a97f92",
   "metadata": {},
   "outputs": [],
   "source": [
    "#line\n",
    "\n",
    "mapline=pd.read_excel('ProdsLine.xlsx')\n",
    "columns_to_join_on = [ 'ProductNameEng']\n",
    "salesl = pd.merge(sales, mapline, on=columns_to_join_on, how='inner')"
   ]
  },
  {
   "cell_type": "code",
   "execution_count": 55,
   "id": "99047d2b",
   "metadata": {},
   "outputs": [],
   "source": [
    "columns_to_drop = ['ProductID' , 'ProductNameFA']\n",
    "salesl = salesl.drop(columns=columns_to_drop, axis=1)\n",
    "# Save the merged DataFrame to an Excel file\n",
    "salesl.to_excel('sales_final.xlsx', index=False)\n",
    "salesl"
   ]
  }
 ],
 "metadata": {
  "kernelspec": {
   "display_name": "Python 3 (ipykernel)",
   "language": "python",
   "name": "python3"
  },
  "language_info": {
   "codemirror_mode": {
    "name": "ipython",
    "version": 3
   },
   "file_extension": ".py",
   "mimetype": "text/x-python",
   "name": "python",
   "nbconvert_exporter": "python",
   "pygments_lexer": "ipython3",
   "version": "3.10.9"
  }
 },
 "nbformat": 4,
 "nbformat_minor": 5
}

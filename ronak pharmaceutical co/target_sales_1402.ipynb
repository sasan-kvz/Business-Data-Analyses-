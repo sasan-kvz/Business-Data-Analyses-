{
 "cells": [
  {
   "cell_type": "code",
   "execution_count": 1,
   "id": "a4b63525-244a-44bc-8dfc-3c2e6d65a5b2",
   "metadata": {},
   "outputs": [],
   "source": [
    "import pandas as pd\n",
    "import numpy as np\n",
    "import os\n",
    "import itertools\n",
    "from itertools import product\n",
    "import math\n",
    "\n",
    "sale = pd.read_excel('1402_sales.xlsx')\n",
    "TARGET = pd.read_excel('target_daya.xlsx')\n",
    "center_factors=pd.read_excel('center_factors.xlsx')\n",
    "mapping = pd.read_excel('ProdMapping2.xlsx') "
   ]
  },
  {
   "cell_type": "code",
   "execution_count": 2,
   "id": "1599795b",
   "metadata": {},
   "outputs": [],
   "source": [
    "sale['ProductNameFA']=sale.ProductName\n",
    "replace_dict = dict(zip(mapping['DistProductName'],mapping['ProductNameFA']))\n",
    "sale['ProductNameFA'].replace(replace_dict,inplace=True)\n",
    "sale['month'] = sale['SDate'].apply(lambda t: int(str(t)[4:6]))"
   ]
  },
  {
   "cell_type": "code",
   "execution_count": 3,
   "id": "9bc32a32",
   "metadata": {},
   "outputs": [],
   "source": [
    "TARGET = TARGET.assign(key=1)\n",
    "center_factors = center_factors.assign(key=1)\n",
    "merged_df = TARGET.merge(center_factors, on='key').drop(columns='key')\n",
    "\n",
    "# Calculate the target for each center based on the distribution factor\n",
    "merged_df['Target'] = merged_df['Target'] * (merged_df['factor'] )\n",
    "\n",
    "# Drop unnecessary columns\n",
    "#merged_df = merged_df.drop(columns=['Supply', 'SupplyRiali' ,'TargetRiali' , 'Stock ' , 'factor_compl'])\n",
    "target_final  = pd.DataFrame(merged_df)\n",
    "# Display the resulting DataFrame\n",
    "target_final.to_excel('target_final.xlsx' , index =False)"
   ]
  },
  {
   "cell_type": "code",
   "execution_count": 4,
   "id": "33c11373",
   "metadata": {},
   "outputs": [],
   "source": [
    "sales = sale.groupby(['ProductNameFA','DistributionCenter' ,'month'])['NetSalesVolumePack'].sum()\n",
    "sales = pd.DataFrame(sales)\n",
    "sales.reset_index(inplace=True)\n",
    "sales.to_excel('sales.xlsx')"
   ]
  },
  {
   "cell_type": "code",
   "execution_count": 5,
   "id": "696791cf",
   "metadata": {},
   "outputs": [],
   "source": [
    "# Columns to join on\n",
    "columns_to_join_on = ['ProductNameFA', 'DistributionCenter' , 'month']\n",
    "\n",
    "# Perform an outer join using merge\n",
    "target_Sales = pd.merge(target_final, sales, on=columns_to_join_on, how='outer')\n",
    "\n",
    "# Fill NaN values with 0\n",
    "target_Sales['NetSalesVolumePack'].fillna(0, inplace=True)\n",
    "target_Sales['Target'].fillna(0, inplace=True)"
   ]
  },
  {
   "cell_type": "code",
   "execution_count": 6,
   "id": "fe796591",
   "metadata": {},
   "outputs": [],
   "source": [
    "target_Sales.to_excel('target_Sales_1402.xlsx', index=False)"
   ]
  }
 ],
 "metadata": {
  "kernelspec": {
   "display_name": "Python 3 (ipykernel)",
   "language": "python",
   "name": "python3"
  },
  "language_info": {
   "codemirror_mode": {
    "name": "ipython",
    "version": 3
   },
   "file_extension": ".py",
   "mimetype": "text/x-python",
   "name": "python",
   "nbconvert_exporter": "python",
   "pygments_lexer": "ipython3",
   "version": "3.10.9"
  }
 },
 "nbformat": 4,
 "nbformat_minor": 5
}
